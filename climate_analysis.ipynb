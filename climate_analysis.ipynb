{
 "cells": [
  {
   "cell_type": "code",
   "execution_count": 1,
   "metadata": {
    "collapsed": true
   },
   "outputs": [],
   "source": [
    "#Dependencies\n",
    "import pandas as pd\n",
    "import matplotlib.pyplot as plt\n",
    "import numpy as np\n",
    "import sqlalchemy\n",
    "from sqlalchemy import create_engine, MetaData, func, desc\n",
    "from sqlalchemy.ext.declarative import declarative_base\n",
    "from sqlalchemy import Column, Integer, String, Numeric, Text, Float\n",
    "from sqlalchemy.ext.automap import automap_base\n",
    "from sqlalchemy.orm import Session"
   ]
  },
  {
   "cell_type": "code",
   "execution_count": 2,
   "metadata": {
    "collapsed": true
   },
   "outputs": [],
   "source": [
    "# Create an engine to a SQLite database file called `hawaii.sqlite`\n",
    "engine = create_engine(\"sqlite:///hawaii.sqlite\")\n",
    "\n",
    "# Create a connection to the engine called `conn`\n",
    "conn = engine.connect()"
   ]
  },
  {
   "cell_type": "code",
   "execution_count": 3,
   "metadata": {},
   "outputs": [
    {
     "data": {
      "text/plain": [
       "['measurements', 'stations']"
      ]
     },
     "execution_count": 3,
     "metadata": {},
     "output_type": "execute_result"
    }
   ],
   "source": [
    "# Reflect Database into ORM classes\n",
    "Base = automap_base()\n",
    "Base.prepare(engine, reflect=True)\n",
    "Base.classes.keys()"
   ]
  },
  {
   "cell_type": "code",
   "execution_count": 4,
   "metadata": {
    "collapsed": true
   },
   "outputs": [],
   "source": [
    "# Save a reference to the measurements table as `Measurement`\n",
    "Measurement = Base.classes.measurements\n",
    "\n",
    "# Save a reference to the stations table as `Station`\n",
    "Station = Base.classes.stations"
   ]
  },
  {
   "cell_type": "code",
   "execution_count": 5,
   "metadata": {
    "collapsed": true
   },
   "outputs": [],
   "source": [
    "# Create a database session object\n",
    "session = Session(engine)"
   ]
  },
  {
   "cell_type": "markdown",
   "metadata": {},
   "source": [
    "# ### Precipitation Analysis"
   ]
  },
  {
   "cell_type": "code",
   "execution_count": 6,
   "metadata": {},
   "outputs": [
    {
     "data": {
      "text/plain": [
       "[('2010-01-01', 0.08),\n",
       " ('2010-01-02', 0.0),\n",
       " ('2010-01-03', 0.0),\n",
       " ('2010-01-04', 0.0),\n",
       " ('2010-01-06', 0.16),\n",
       " ('2010-01-07', 0.06),\n",
       " ('2010-01-08', 0.0),\n",
       " ('2010-01-09', 0.0),\n",
       " ('2010-01-10', 0.0),\n",
       " ('2010-01-11', 0.01)]"
      ]
     },
     "execution_count": 6,
     "metadata": {},
     "output_type": "execute_result"
    }
   ],
   "source": [
    "# Design a query to retrieve the last 12 months of precipitation data.\n",
    "# Select only the `date` and `prcp` values.\n",
    "\n",
    "#view the data\n",
    "session.query(Measurement.date, Measurement.prcp).limit(10).all()"
   ]
  },
  {
   "cell_type": "code",
   "execution_count": 7,
   "metadata": {},
   "outputs": [
    {
     "data": {
      "text/html": [
       "<div>\n",
       "<style>\n",
       "    .dataframe thead tr:only-child th {\n",
       "        text-align: right;\n",
       "    }\n",
       "\n",
       "    .dataframe thead th {\n",
       "        text-align: left;\n",
       "    }\n",
       "\n",
       "    .dataframe tbody tr th {\n",
       "        vertical-align: top;\n",
       "    }\n",
       "</style>\n",
       "<table border=\"1\" class=\"dataframe\">\n",
       "  <thead>\n",
       "    <tr style=\"text-align: right;\">\n",
       "      <th></th>\n",
       "      <th>prcp</th>\n",
       "    </tr>\n",
       "    <tr>\n",
       "      <th>date</th>\n",
       "      <th></th>\n",
       "    </tr>\n",
       "  </thead>\n",
       "  <tbody>\n",
       "    <tr>\n",
       "      <th>2016-08-23</th>\n",
       "      <td>0.00</td>\n",
       "    </tr>\n",
       "    <tr>\n",
       "      <th>2016-08-24</th>\n",
       "      <td>0.08</td>\n",
       "    </tr>\n",
       "    <tr>\n",
       "      <th>2016-08-25</th>\n",
       "      <td>0.08</td>\n",
       "    </tr>\n",
       "    <tr>\n",
       "      <th>2016-08-26</th>\n",
       "      <td>0.00</td>\n",
       "    </tr>\n",
       "    <tr>\n",
       "      <th>2016-08-27</th>\n",
       "      <td>0.00</td>\n",
       "    </tr>\n",
       "  </tbody>\n",
       "</table>\n",
       "</div>"
      ],
      "text/plain": [
       "            prcp\n",
       "date            \n",
       "2016-08-23  0.00\n",
       "2016-08-24  0.08\n",
       "2016-08-25  0.08\n",
       "2016-08-26  0.00\n",
       "2016-08-27  0.00"
      ]
     },
     "execution_count": 7,
     "metadata": {},
     "output_type": "execute_result"
    }
   ],
   "source": [
    "# Retrieve the data from 12 months before 8/23/2017 (assuming current date is 8/23/2017) \n",
    "prec_data = session.query(Measurement.date, Measurement.prcp).filter(Measurement.date >= '2016-08-23').all()\n",
    "\n",
    "# Load the query results into a Pandas DataFrame \n",
    "prec_df = pd.DataFrame(prec_data)\n",
    "\n",
    "# Take average by date for the different stations\n",
    "#prec_df = prec_df.groupby(\"date\")[\"prcp\"].mean()\n",
    "#prec_df = prec_df.reset_index()\n",
    "\n",
    "# Set the index to the date column.\n",
    "prec_df.set_index('date', inplace = True)\n",
    "prec_df.head()                                                                    "
   ]
  },
  {
   "cell_type": "code",
   "execution_count": 8,
   "metadata": {
    "collapsed": true
   },
   "outputs": [],
   "source": [
    "# another way to Load the query results into a Pandas DataFrame and set the index to the date column.\n",
    "#prec_df2 = pd.read_sql_query(\"SELECT date, prcp FROM measurements WHERE date BETWEEN '2016-08-24' AND '2017-08024'\", conn)\n",
    "#prec_df2.set_index('date', inplace=True)\n",
    "#prec_df2.head(100)"
   ]
  },
  {
   "cell_type": "code",
   "execution_count": 9,
   "metadata": {},
   "outputs": [
    {
     "data": {
      "image/png": "[encoded data removed]",
      "text/plain": [
       "<matplotlib.figure.Figure at 0x1fc2cdb84a8>"
      ]
     },
     "metadata": {},
     "output_type": "display_data"
    }
   ],
   "source": [
    "# Plot the results using the DataFrame `plot` method.\n",
    "\n",
    "prec_df.plot(figsize=(8,5))\n",
    "plt.tight_layout\n",
    "\n",
    "plt.xticks(rotation=\"45\")\n",
    "\n",
    "plt.title(\"Precipitation in last 12 Months\", fontsize=18)\n",
    "plt.xlabel(\"Date\", fontsize=18)\n",
    "plt.ylabel(\"Precipitation\", fontsize=18)\n",
    "\n",
    "plt.grid(color='darkgray')\n",
    "plt.rcParams['axes.facecolor'] = 'lightgray'\n",
    "\n",
    "plt.show()"
   ]
  },
  {
   "cell_type": "code",
   "execution_count": 10,
   "metadata": {},
   "outputs": [
    {
     "data": {
      "text/html": [
       "<div>\n",
       "<style>\n",
       "    .dataframe thead tr:only-child th {\n",
       "        text-align: right;\n",
       "    }\n",
       "\n",
       "    .dataframe thead th {\n",
       "        text-align: left;\n",
       "    }\n",
       "\n",
       "    .dataframe tbody tr th {\n",
       "        vertical-align: top;\n",
       "    }\n",
       "</style>\n",
       "<table border=\"1\" class=\"dataframe\">\n",
       "  <thead>\n",
       "    <tr style=\"text-align: right;\">\n",
       "      <th></th>\n",
       "      <th>prcp</th>\n",
       "    </tr>\n",
       "  </thead>\n",
       "  <tbody>\n",
       "    <tr>\n",
       "      <th>count</th>\n",
       "      <td>2230.000000</td>\n",
       "    </tr>\n",
       "    <tr>\n",
       "      <th>mean</th>\n",
       "      <td>0.175659</td>\n",
       "    </tr>\n",
       "    <tr>\n",
       "      <th>std</th>\n",
       "      <td>0.439065</td>\n",
       "    </tr>\n",
       "    <tr>\n",
       "      <th>min</th>\n",
       "      <td>0.000000</td>\n",
       "    </tr>\n",
       "    <tr>\n",
       "      <th>25%</th>\n",
       "      <td>0.000000</td>\n",
       "    </tr>\n",
       "    <tr>\n",
       "      <th>50%</th>\n",
       "      <td>0.030000</td>\n",
       "    </tr>\n",
       "    <tr>\n",
       "      <th>75%</th>\n",
       "      <td>0.160000</td>\n",
       "    </tr>\n",
       "    <tr>\n",
       "      <th>max</th>\n",
       "      <td>6.700000</td>\n",
       "    </tr>\n",
       "  </tbody>\n",
       "</table>\n",
       "</div>"
      ],
      "text/plain": [
       "              prcp\n",
       "count  2230.000000\n",
       "mean      0.175659\n",
       "std       0.439065\n",
       "min       0.000000\n",
       "25%       0.000000\n",
       "50%       0.030000\n",
       "75%       0.160000\n",
       "max       6.700000"
      ]
     },
     "execution_count": 10,
     "metadata": {},
     "output_type": "execute_result"
    }
   ],
   "source": [
    "# Use Pandas to print the summary statistics for the precipitation data.\n",
    "prec_df.describe()"
   ]
  },
  {
   "cell_type": "markdown",
   "metadata": {},
   "source": [
    "# ###Station Analysis\n"
   ]
  },
  {
   "cell_type": "code",
   "execution_count": 11,
   "metadata": {},
   "outputs": [
    {
     "data": {
      "text/plain": [
       "[(9)]"
      ]
     },
     "execution_count": 11,
     "metadata": {},
     "output_type": "execute_result"
    }
   ],
   "source": [
    "# Design a query to calculate the total number of stations.\n",
    "session.query(func.count(Station.station)).all()"
   ]
  },
  {
   "cell_type": "code",
   "execution_count": 12,
   "metadata": {},
   "outputs": [
    {
     "data": {
      "text/plain": [
       "[('USC00519281', 2772),\n",
       " ('USC00519397', 2724),\n",
       " ('USC00513117', 2709),\n",
       " ('USC00519523', 2669),\n",
       " ('USC00516128', 2612),\n",
       " ('USC00514830', 2202),\n",
       " ('USC00511918', 1979),\n",
       " ('USC00517948', 1372),\n",
       " ('USC00518838', 511)]"
      ]
     },
     "execution_count": 12,
     "metadata": {},
     "output_type": "execute_result"
    }
   ],
   "source": [
    "# Design a query to find the most active stations.\n",
    "  # List the stations and observation counts in descending order\n",
    "  # Which station has the highest number of observations?\n",
    "active_stations = session.query(Measurement.station, func.count(Measurement.tobs)).group_by(Measurement.station)\n",
    "active_stations.order_by(desc(func.count(Measurement.tobs))).all()"
   ]
  },
  {
   "cell_type": "code",
   "execution_count": 13,
   "metadata": {},
   "outputs": [
    {
     "data": {
      "text/plain": [
       "[('2010-01-01', 65.0),\n",
       " ('2010-01-02', 63.0),\n",
       " ('2010-01-03', 74.0),\n",
       " ('2010-01-04', 76.0),\n",
       " ('2010-01-06', 73.0),\n",
       " ('2010-01-07', 70.0),\n",
       " ('2010-01-08', 64.0),\n",
       " ('2010-01-09', 68.0),\n",
       " ('2010-01-10', 73.0),\n",
       " ('2010-01-11', 64.0)]"
      ]
     },
     "execution_count": 13,
     "metadata": {},
     "output_type": "execute_result"
    }
   ],
   "source": [
    "# Design a query to retrieve the last 12 months of temperature observation data (tobs).\n",
    "\n",
    "#view the data\n",
    "session.query(Measurement.date, Measurement.tobs).limit(10).all()"
   ]
  },
  {
   "cell_type": "code",
   "execution_count": 14,
   "metadata": {},
   "outputs": [
    {
     "data": {
      "text/html": [
       "<div>\n",
       "<style>\n",
       "    .dataframe thead tr:only-child th {\n",
       "        text-align: right;\n",
       "    }\n",
       "\n",
       "    .dataframe thead th {\n",
       "        text-align: left;\n",
       "    }\n",
       "\n",
       "    .dataframe tbody tr th {\n",
       "        vertical-align: top;\n",
       "    }\n",
       "</style>\n",
       "<table border=\"1\" class=\"dataframe\">\n",
       "  <thead>\n",
       "    <tr style=\"text-align: right;\">\n",
       "      <th></th>\n",
       "      <th>date</th>\n",
       "      <th>tobs</th>\n",
       "    </tr>\n",
       "  </thead>\n",
       "  <tbody>\n",
       "    <tr>\n",
       "      <th>0</th>\n",
       "      <td>2016-08-23</td>\n",
       "      <td>77.0</td>\n",
       "    </tr>\n",
       "    <tr>\n",
       "      <th>1</th>\n",
       "      <td>2016-08-24</td>\n",
       "      <td>77.0</td>\n",
       "    </tr>\n",
       "    <tr>\n",
       "      <th>2</th>\n",
       "      <td>2016-08-25</td>\n",
       "      <td>80.0</td>\n",
       "    </tr>\n",
       "    <tr>\n",
       "      <th>3</th>\n",
       "      <td>2016-08-26</td>\n",
       "      <td>80.0</td>\n",
       "    </tr>\n",
       "    <tr>\n",
       "      <th>4</th>\n",
       "      <td>2016-08-27</td>\n",
       "      <td>75.0</td>\n",
       "    </tr>\n",
       "  </tbody>\n",
       "</table>\n",
       "</div>"
      ],
      "text/plain": [
       "         date  tobs\n",
       "0  2016-08-23  77.0\n",
       "1  2016-08-24  77.0\n",
       "2  2016-08-25  80.0\n",
       "3  2016-08-26  80.0\n",
       "4  2016-08-27  75.0"
      ]
     },
     "execution_count": 14,
     "metadata": {},
     "output_type": "execute_result"
    }
   ],
   "source": [
    "# Retrieve the data from 12 months before 8/23/2017 (assuming current date is 8/23/2017) \n",
    "tobs_data = session.query(Measurement.date, Measurement.tobs).filter(Measurement.date >= '2016-08-23')\\\n",
    ".filter(Measurement.station == \"USC00519281\").all()\n",
    "\n",
    "# Load the query results into a Pandas DataFrame \n",
    "tobs_df = pd.DataFrame(tobs_data)\n",
    "\n",
    "# Set the index to the date column.\n",
    "#tobs_df.set_index('date', inplace = True)\n",
    "tobs_df.head()   \n"
   ]
  },
  {
   "cell_type": "code",
   "execution_count": 15,
   "metadata": {},
   "outputs": [
    {
     "data": {
      "image/png": "[encoded data removed]",
      "text/plain": [
       "<matplotlib.figure.Figure at 0x1fc2d060198>"
      ]
     },
     "metadata": {},
     "output_type": "display_data"
    }
   ],
   "source": [
    "# Plot the results as a histogram with `bins=12`.\n",
    "\n",
    "tobs_df.plot.hist(bins=12, figsize=(8,5))\n",
    "plt.tight_layout\n",
    "\n",
    "plt.title(\"Temperature in last 12 Months(USC00519281)\", fontsize=18)\n",
    "plt.xlabel('Temperature', fontsize=18)\n",
    "plt.ylabel('Frequency', fontsize=18)\n",
    "\n",
    "plt.grid()\n",
    "plt.rc('axes', axisbelow=True)\n",
    "\n",
    "plt.show()"
   ]
  },
  {
   "cell_type": "markdown",
   "metadata": {},
   "source": [
    "# ### Temperature Analysis"
   ]
  },
  {
   "cell_type": "code",
   "execution_count": 16,
   "metadata": {},
   "outputs": [
    {
     "name": "stdout",
     "output_type": "stream",
     "text": [
      "Enter a Start Date (yyyy-mm-dd): 2017-03-03\n",
      "Enter an End Date (yyyy-mm-dd): 2017-04-04\n",
      "62.0 72.77722772277228 82.0\n",
      "Minimum Temperature: 62.0\n",
      "Average Temperature: 72.77722772277228\n",
      "Maximum Temperature: 82.0\n"
     ]
    }
   ],
   "source": [
    "# Write a function called `calc_temps` that will accept a start date and end date in the format `%Y-%m-%d` \n",
    "# and return the minimum, average, and maximum temperatures for that range of dates.\n",
    "\n",
    "import datetime as datetime\n",
    "\n",
    "# Define a function\n",
    "def calc_temps(start_date, end_date):\n",
    "        return session.query(func.min(Measurement.tobs), func.avg(Measurement.tobs), func.max(Measurement.tobs)).\\\n",
    "                    filter(Measurement.date >= start_date).\\\n",
    "                    filter(Measurement.date <= end_date).all()\n",
    "\n",
    "# Call the function with user input values for Start date and End date\n",
    "trip_temp_min, trip_temp_avg, trip_temp_max = calc_temps(str(input(\"Enter a Start Date (yyyy-mm-dd): \")), \\\n",
    "                                                         str(input(\"Enter an End Date (yyyy-mm-dd): \")))[0]\n",
    "print(trip_temp_min, trip_temp_avg, trip_temp_max)\n",
    "print(\"Minimum Temperature: {}\".format(trip_temp_min))\n",
    "print(\"Average Temperature: {}\".format(trip_temp_avg))\n",
    "print(\"Maximum Temperature: {}\".format(trip_temp_max))          "
   ]
  },
  {
   "cell_type": "code",
   "execution_count": 17,
   "metadata": {},
   "outputs": [
    {
     "name": "stdout",
     "output_type": "stream",
     "text": [
      "Enter the Trip Start Date(yyyy): 2017\n",
      "Enter the Trip Start Date(mm): 01\n",
      "Enter the Trip Start Date(dd): 01\n",
      "Enter the Trip End Date(yyyy): 2017\n",
      "Enter the TripEnd Date(mm): 04\n",
      "Enter the Trip End Date(dd): 04\n",
      "2016-01-02\n",
      "Temperatures for the previous year from 2016-01-02 to 2016-04-04\n",
      "Previous year Minimum Temperature: 56.0\n",
      "Previous year Average Temperature: 70.19420783645656\n",
      "Previous year Maximum Temperature: 82.0\n"
     ]
    }
   ],
   "source": [
    "# Use the `calc_temps` function to calculate the min, avg, and max temperatures for your trip using the \n",
    "# matching dates from the previous year (i.e. use \"2017-01-01\" if your trip start date was \"2018-01-01\")\n",
    "\n",
    "import datetime as datetime\n",
    "\n",
    "# Get the Trip Start date from the user\n",
    "start_year = input(\"Enter the Trip Start Date(yyyy): \")\n",
    "start_month = input(\"Enter the Trip Start Date(mm): \")\n",
    "start_day = input(\"Enter the Trip Start Date(dd): \")\n",
    "\n",
    "# Get the Trip end date from the user\n",
    "end_year = input(\"Enter the Trip End Date(yyyy): \")\n",
    "end_month = input(\"Enter the TripEnd Date(mm): \")\n",
    "end_day = input(\"Enter the Trip End Date(dd): \")\n",
    "\n",
    "# Calculate the dates fro the previous year\n",
    "prev_year_start_date = datetime.date(int(start_year), int(start_month), int(start_day)) - datetime.timedelta(days=365)\n",
    "prev_year_end_date = datetime.date(int(end_year), int(end_month), int(end_day)) - datetime.timedelta(days=365)\n",
    "\n",
    "print(prev_year_start_date)\n",
    "print(f\"Temperatures for the previous year from {prev_year_start_date} to {prev_year_end_date}\")\n",
    "\n",
    "# Call the function with the trip start and end dates from the previous year\n",
    "prev_year_temp_min, prev_year_temp_avg, prev_year_temp_max = calc_temps(prev_year_start_date, prev_year_end_date)[0]\n",
    "\n",
    "print(\"Previous year Minimum Temperature: {}\".format(prev_year_temp_min))\n",
    "print(\"Previous year Average Temperature: {}\".format(prev_year_temp_avg))\n",
    "print(\"Previous year Maximum Temperature: {}\".format(prev_year_temp_max))"
   ]
  },
  {
   "cell_type": "code",
   "execution_count": 18,
   "metadata": {},
   "outputs": [
    {
     "data": {
      "image/png": "[encoded data removed]",
      "text/plain": [
       "<matplotlib.figure.Figure at 0x1fc2e237908>"
      ]
     },
     "metadata": {},
     "output_type": "display_data"
    }
   ],
   "source": [
    "# Plot the min, avg, and max temperature from your previous query as a bar chart.\n",
    "  # Use the average temperature as the bar height.\n",
    "  # Use the peak-to-peak (tmax-tmin) value as the y error bar (yerr).\n",
    "#<center><img src='images/temp_avg.png' height=\"400px\"/></center>\n",
    "\n",
    "plt.figure(figsize=(3,6))\n",
    "\n",
    "yerr= prev_year_temp_max - prev_year_temp_min\n",
    "plt.bar(\"\", prev_year_temp_avg, yerr=yerr, color=\"lightcoral\")\n",
    "\n",
    "plt.title(\"Trip Average Temperature\", fontsize=18)\n",
    "plt.xlabel('', fontsize=18)\n",
    "plt.ylabel('Temp (F)', fontsize=18)\n",
    "\n",
    "plt.grid()\n",
    "\n",
    "plt.show()"
   ]
  },
  {
   "cell_type": "markdown",
   "metadata": {},
   "source": [
    "# ### Optional Recommended Analysis"
   ]
  },
  {
   "cell_type": "code",
   "execution_count": 19,
   "metadata": {},
   "outputs": [
    {
     "data": {
      "text/plain": [
       "[('USC00513117', 8.789999999999996),\n",
       " ('USC00514830', 6.079999999999999),\n",
       " ('USC00516128', 9.03),\n",
       " ('USC00517948', 6.720000000000003),\n",
       " ('USC00519281', 6.7399999999999975),\n",
       " ('USC00519397', 1.3800000000000003),\n",
       " ('USC00519523', 5.11)]"
      ]
     },
     "execution_count": 19,
     "metadata": {},
     "output_type": "execute_result"
    }
   ],
   "source": [
    "# Calcualte the rainfall per weather station using the previous year's matching dates.\n",
    "rainfall_per_station = session.query(Measurement.station, func.sum(Measurement.prcp)).\\\n",
    "                            group_by(Measurement.station).\\\n",
    "                            filter(Measurement.date >= prev_year_start_date).\\\n",
    "                            filter(Measurement.date <= prev_year_end_date).all()\n",
    "rainfall_per_station"
   ]
  }
 ],
 "metadata": {
  "kernelspec": {
   "display_name": "Python [conda env:PythonData]",
   "language": "python",
   "name": "conda-env-PythonData-py"
  },
  "language_info": {
   "codemirror_mode": {
    "name": "ipython",
    "version": 3
   },
   "file_extension": ".py",
   "mimetype": "text/x-python",
   "name": "python",
   "nbconvert_exporter": "python",
   "pygments_lexer": "ipython3",
   "version": "3.6.3"
  }
 },
 "nbformat": 4,
 "nbformat_minor": 2
}
